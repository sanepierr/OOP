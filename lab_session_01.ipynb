{
 "cells": [
  {
   "cell_type": "markdown",
   "metadata": {},
   "source": [
    "Write a class Vehicle. A Vehicle has an instance variable to store the color of the Vehicle. The color can be retrieved with the getColor() method. The toString() method returns a String like This vehicle is red, depending on the actual color"
   ]
  },
  {
   "cell_type": "code",
   "execution_count": null,
   "metadata": {},
   "outputs": [],
   "source": [
    "class Vehicle:\n",
    "    def __init__(self, color):\n",
    "        self.color = color\n",
    "\n",
    "    def getColor(self):\n",
    "        return self.color\n",
    "\n",
    "    def toString(self):\n",
    "        return f\"This vehicle is {self.color}\""
   ]
  }
 ],
 "metadata": {
  "language_info": {
   "name": "python"
  }
 },
 "nbformat": 4,
 "nbformat_minor": 2
}
